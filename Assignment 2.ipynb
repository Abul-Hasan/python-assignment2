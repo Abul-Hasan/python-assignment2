{
 "cells": [
  {
   "cell_type": "code",
   "execution_count": 10,
   "metadata": {},
   "outputs": [
    {
     "name": "stdout",
     "output_type": "stream",
     "text": [
      "Enter the num1:100\n",
      "Enter the num2:100\n",
      "400\n"
     ]
    }
   ],
   "source": [
    "#Given two numbers, print their sum. However, if the two numbers are the same,\n",
    "#return double their \n",
    "#sum. input : num1 = 10 ,num2 = 10 expected output => (10 + 10)*2 = 40\n",
    "#input : num1 = 5 , num2 = 10 expected output => (5 + 10) = 15\n",
    "num1=int(input(\"Enter the num1:\"))\n",
    "num2=int(input(\"Enter the num2:\"))\n",
    "if num1 == num2:\n",
    "    num3 = (num1+num2)*2\n",
    "    print(num3)\n",
    "    \n",
    "else:\n",
    "    num3 = num1 +num2\n",
    "    print(num3)"
   ]
  },
  {
   "cell_type": "code",
   "execution_count": 14,
   "metadata": {},
   "outputs": [
    {
     "name": "stdout",
     "output_type": "stream",
     "text": [
      "Enter the num1:10\n",
      "Enter the num2:10\n",
      "40\n"
     ]
    }
   ],
   "source": [
    "num1=int(input(\"Enter the num1:\"))\n",
    "num2=int(input(\"Enter the num2:\"))\n",
    "n=((num1+num2)*2 if num1 == num2 else num1+num2)\n",
    "print(n)  "
   ]
  },
  {
   "cell_type": "code",
   "execution_count": 32,
   "metadata": {},
   "outputs": [
    {
     "name": "stdout",
     "output_type": "stream",
     "text": [
      "Enter the cost price:200\n",
      "Enter the selling price:100\n",
      "Loss of  100\n"
     ]
    }
   ],
   "source": [
    "#Given a Cost price and Selling price of a product,\n",
    "#write program to calculate profit or loss. \n",
    "#Profit : if Selling Price > Cost Price\n",
    "#Loss : if Selling Price < Cost Price\n",
    "#input : cost price = 100 , selling price = 200 expected output => Profit of 100.\n",
    "#input : cost price = 50 , selling price = 20 expected output => Loss of 30\n",
    "\n",
    "cost_price = int(input(\"Enter the cost price:\"))\n",
    "selling_price = int(input(\"Enter the selling price:\"))\n",
    "\n",
    "profit =selling_price - cost_price\n",
    "\n",
    "if  selling_price > cost_price:\n",
    "    print(\"profit of\",profit)\n",
    "    \n",
    "else:\n",
    "    \n",
    "    print(\"Loss of \",abs(profit))\n",
    "\n",
    "#n=(profit if selling_price > cost_price else \"Loss\")\n",
    "#print(n)"
   ]
  },
  {
   "cell_type": "code",
   "execution_count": null,
   "metadata": {},
   "outputs": [],
   "source": [
    "#Write a program to check whether triangle is valid or not if angles are given. \n",
    "#Valid Triangle : Sum of all the angles should be 180 All the angles should be greater than zero\n",
    "angle1 = int(input(\"Enter the 1st angle of triangle:\"))\n",
    "angle2 = int(input(\"Enter the 2nd angle of triangle:\"))\n",
    "angle3 = int(input(\"Enter the 3rd angle of triangle:\"))\n",
    "\n",
    "triangle = angle1 + angle2 + angle3\n",
    "\n",
    "val=(\"Not Invalid triangle\" if angle1==0 or angle2==0 or angle3==0 or triangle !=180  else \"Valid triangle\")\n",
    "print(val)"
   ]
  },
  {
   "cell_type": "code",
   "execution_count": 12,
   "metadata": {},
   "outputs": [
    {
     "name": "stdout",
     "output_type": "stream",
     "text": [
      "Enter the 1st angle of triangle:0\n",
      "Enter the 2nd angle of triangle:0\n",
      "Enter the 3rd angle of triangle:0\n",
      "Invalid Triangle's angle\n"
     ]
    }
   ],
   "source": [
    "angle1 = int(input(\"Enter the 1st angle of triangle:\"))\n",
    "angle2 = int(input(\"Enter the 2nd angle of triangle:\"))\n",
    "angle3 = int(input(\"Enter the 3rd angle of triangle:\"))\n",
    "\n",
    "triangle = angle1 + angle2 + angle3\n",
    "\n",
    "if angle1==0 or angle2==0 or angle3==0:\n",
    "    \n",
    "    print(\"Invalid Triangle's angle\")\n",
    "    \n",
    "elif triangle ==180:\n",
    "    print(\"valid triangle\")\n",
    "else:\n",
    "    \n",
    "    print(\"Invalid triangle\")"
   ]
  },
  {
   "cell_type": "code",
   "execution_count": 4,
   "metadata": {},
   "outputs": [
    {
     "name": "stdout",
     "output_type": "stream",
     "text": [
      "3 90\n"
     ]
    }
   ],
   "source": [
    "#Write a program to find out max from the given list of numbers.Also print the index of that element\n",
    "#Input: nums = [10,50,20,90,60,30] max => 90,index is 3\n",
    "a=[10,50,20,90,60,30]\n",
    "abc=a.index(max(a))\n",
    "print(abc,max(a))\n",
    "\n"
   ]
  },
  {
   "cell_type": "code",
   "execution_count": null,
   "metadata": {},
   "outputs": [],
   "source": [
    "nums = [10,50,20,90,60,30] \n",
    "a=max(nums)\n",
    "p=\"maximum in list is {0} and its index is {1}\".format(a,nums.index(a))\n",
    "print(p)\n"
   ]
  },
  {
   "cell_type": "code",
   "execution_count": 111,
   "metadata": {},
   "outputs": [
    {
     "name": "stdout",
     "output_type": "stream",
     "text": [
      "0\n",
      "1\n",
      "1\n",
      "2\n",
      "3\n",
      "5\n",
      "8\n",
      "13\n",
      "21\n",
      "34\n",
      "55\n",
      "89\n",
      "144\n",
      "233\n",
      "377\n",
      "610\n",
      "987\n",
      "1597\n",
      "2584\n",
      "4181\n",
      "6765\n"
     ]
    }
   ],
   "source": [
    "#Write a program to generate 20 fibonacci series numbers. \n",
    "#The Fibonacci numbers are the numbers in the following integer sequence. 0, 1, 1, 2, 3, 5, 8, 13, 21, 34, 55, 89, 144,...\n",
    "def fibo():\n",
    "    first_num = 0\n",
    "    sec_num = 1\n",
    "    yield first_num\n",
    "    yield sec_num\n",
    "    \n",
    "    while (True):\n",
    "        third_num = first_num + sec_num\n",
    "        yield third_num\n",
    "        first_num,sec_num = sec_num,third_num\n",
    "        \n",
    "        \n",
    "g=fibo()\n",
    "for a in range(21):\n",
    "    print(next(g))\n",
    "        \n",
    "\n",
    "    \n"
   ]
  },
  {
   "cell_type": "code",
   "execution_count": 114,
   "metadata": {},
   "outputs": [
    {
     "name": "stdout",
     "output_type": "stream",
     "text": [
      "PythOn sAmplE InpUt strIng\n"
     ]
    }
   ],
   "source": [
    "#Write a program to capitalize the vowels from a given string \n",
    "#Input string : \"Python sample input string\" \n",
    "#Expected output:\"PythOn sAmplE InpUt strIng\"\n",
    "\n",
    "st=\"Python sample input string\"\n",
    "st1=\"aeiou\"\n",
    "st2=\"AEIOU\"\n",
    "A=str.maketrans(st1,st2)\n",
    "vow=st.translate(A)\n",
    "print(vow)"
   ]
  },
  {
   "cell_type": "code",
   "execution_count": null,
   "metadata": {},
   "outputs": [],
   "source": [
    "#Write a program to perfrom the matcrix addition.\n",
    "a = [[10,20,30], [40,50,60], [70,80,90]]\n",
    "b = [[1,2,3], [4,5,6], [7,8,9]]\n",
    "\n",
    "#output : c = [[11,22,33], [44,55,66], [77,88,99]]"
   ]
  },
  {
   "cell_type": "code",
   "execution_count": 56,
   "metadata": {},
   "outputs": [],
   "source": [
    "#Write a program to check if given string is valid support ticket number or not. Valid Format :\n",
    "#Starting 3 characters should be INC Followed by\n",
    "#5 char which is combination of uppercase alphabates and numbers\n",
    "#Input : INC12A34 => Valid Support \n",
    "#Ticket Number INC12345 => Invalid Support\n",
    "#Ticket Number INC12#56 => Invalid Support Ticket Number\n"
   ]
  },
  {
   "cell_type": "code",
   "execution_count": 2,
   "metadata": {},
   "outputs": [
    {
     "name": "stdout",
     "output_type": "stream",
     "text": [
      "Enter the ticket:INC12934\n",
      "valid ticket number\n"
     ]
    }
   ],
   "source": [
    "import re\n",
    "a=input(\"Enter the ticket:\")\n",
    "#a=\"INC12A34\" \n",
    "#(\"^[A-Z]{5}[0-9]{4}[A-Z]{1}$\")\n",
    "r=re.compile(\"INC[A-Z0-9]{2}[A-Z0-9]{1}[A-Z0-9]{2}$\")\n",
    "l=re.search(r,a)\n",
    "if l:\n",
    "    print(\"valid ticket number\")\n",
    "else:\n",
    "    print(\"Invalid Support Ticket number \")\n"
   ]
  },
  {
   "cell_type": "code",
   "execution_count": 2,
   "metadata": {},
   "outputs": [
    {
     "name": "stdout",
     "output_type": "stream",
     "text": [
      "Enter the passwordAbcd5!\n",
      "Invalid password \n"
     ]
    }
   ],
   "source": [
    "#Write a program to check if given password is valid password or not. \n",
    "#Valid Password : 1.Min length should be 6 and max length should be 12\n",
    "#2.Password should contain atleast one Upper case letter\n",
    "#3.Password should contain atleast 1 special character (@,!,_,$,#)\n",
    "#4.Password should contain atleast 1 number\n",
    "import random\n",
    "import re\n",
    "\n",
    "a=input(\"Enter the password\")\n",
    "\n",
    "r1=re.compile(\"^([a-zA-Z0-9]{6,12})$\")\n",
    "\n",
    "k=re.search(r1,a)\n",
    "if k:\n",
    "    print(\"valid password\")\n",
    "else:\n",
    "    print(\"Invalid password \")\n"
   ]
  },
  {
   "cell_type": "code",
   "execution_count": 15,
   "metadata": {},
   "outputs": [
    {
     "name": "stdout",
     "output_type": "stream",
     "text": [
      "Enter the phone number:+447911123456\n",
      "This is in E.164 format\n"
     ]
    }
   ],
   "source": [
    "#Check if given phone number is valid international phone number as per E.164 format.\n",
    "#E.164 numbers are formatted [+] [country code] [subscriber number] and can have a maximum of fifteen digits.\n",
    "import re\n",
    "a=input(\"Enter the phone number:\")\n",
    "r=re.compile(\"^(\\+44)?[0-9]{4}[0-9]{6}$\")\n",
    "l=re.search(r,a)\n",
    "if l:\n",
    "    print(\"This is in E.164 format\")\n",
    "else:\n",
    "    print(\"not found\")"
   ]
  },
  {
   "cell_type": "code",
   "execution_count": 39,
   "metadata": {},
   "outputs": [
    {
     "name": "stdout",
     "output_type": "stream",
     "text": [
      "Enter the electricity unit250\n",
      "Rs. 187.5\n"
     ]
    }
   ],
   "source": [
    "#Write a program to input electricity unit charge and calculate the total electricity bill according to the given conditions:\n",
    "\n",
    "#For the first 50 units Rs. 0.50/unit\n",
    "#For the next 100 units Rs. 0.75/unit\n",
    "#For the next 100 units Rs. 1.20/unit\n",
    "#For unit above 250 Rs. 1.50/unit\n",
    "#Also, an additional surcharge of 20% should be added to the bill.\n",
    "\n",
    "bill=int(input(\"Enter the electricity unit\"))\n",
    "\n",
    "if bill <=50:\n",
    "    print(\"Rs.\",bill*0.50 )\n",
    "\n",
    "elif bill >= 100:\n",
    "        print(\"Rs.\",bill*0.75)\n",
    "elif bill >= 250:\n",
    "    print(\"Rs.\",bill*1.20)\n",
    "else:\n",
    "    print(\"Rs.\",bill*1.50)\n",
    "\n"
   ]
  },
  {
   "cell_type": "code",
   "execution_count": 47,
   "metadata": {},
   "outputs": [
    {
     "name": "stdout",
     "output_type": "stream",
     "text": [
      "amt ?:100\n",
      "rate 1-5:5\n",
      "25.0\n"
     ]
    }
   ],
   "source": [
    "#Given 2 numbers, a for the purchase amount in rupees, and b for the quality of service(1-5) received, \n",
    "#Calculate the tip according to the following table\n",
    "\n",
    "##Quality Tip Percent\n",
    "#1 5%\n",
    "#2 10%\n",
    "#3 15%\n",
    "#4 20%\n",
    "#5 25%\n",
    "\n",
    "amt=int(input(\"amt ?:\"))\n",
    "q=int(input(\"rate 1-5:\"))\n",
    "\n",
    "if q == 1:\n",
    "    print((amt/100)*5)\n",
    "elif q == 2:\n",
    "    print((amt/100)*10)\n",
    "elif q == 3:\n",
    "    print((amt/100)*15)\n",
    "elif q == 4:\n",
    "    print((amt/100)*20)\n",
    "elif q == 5:\n",
    "    print((amt/100)*25)\n",
    "    \n",
    "else:\n",
    "    print(\"Enter rating 1 to 5 only\")"
   ]
  },
  {
   "cell_type": "code",
   "execution_count": null,
   "metadata": {},
   "outputs": [],
   "source": [
    "8.Write a program to perfrom the matcrix addition. \n",
    "a = [[10,20,30], [40,50,60], [70,80,90]]\n",
    "b = [[1,2,3], [4,5,6], [7,8,9]]\n",
    "\n",
    "output : c = [[11,22,33], [44,55,66], [77,88,99]]"
   ]
  },
  {
   "cell_type": "code",
   "execution_count": 49,
   "metadata": {},
   "outputs": [
    {
     "name": "stdout",
     "output_type": "stream",
     "text": [
      "[11, 22, 33]\n",
      "[44, 55, 66]\n",
      "[77, 88, 99]\n"
     ]
    }
   ],
   "source": [
    "a = [[10,20,30], [40,50,60], [70,80,90]]\n",
    "b = [[1,2,3], [4,5,6], [7,8,9]]\n",
    "\n",
    "\n",
    "result = [[0,0,0],\n",
    "         [0,0,0],\n",
    "         [0,0,0]]\n",
    "for i in range(len(a)):\n",
    "   \n",
    "   for j in range(len(a[0])):\n",
    "           result[i][j] = a[i][j] + b[i][j]\n",
    "\n",
    "for c in result:\n",
    "       print(c)"
   ]
  },
  {
   "cell_type": "code",
   "execution_count": 20,
   "metadata": {},
   "outputs": [
    {
     "name": "stdout",
     "output_type": "stream",
     "text": [
      "enter the number.44\n",
      "invalid floating numbers\n"
     ]
    }
   ],
   "source": [
    "#Write a program to check if a given string is a valid floating point number or not \n",
    "#Input : \"14.55\" : Valid Floating number \n",
    "        #\"1455.\" : Invalid floating point number\n",
    "        #\".144\" : Invalid floating point number\n",
    "\n",
    "a=eval(input(\"enter the number\"))\n",
    "b=int(a)\n",
    "c= round(a-b,4)\n",
    "if (type(a) == float) and (b>1) and (c>.0001):\n",
    "    print(\"this is valid floating numbers\")\n",
    "else:\n",
    "    print(\"invalid floating numbers\")\n",
    "        "
   ]
  },
  {
   "cell_type": "code",
   "execution_count": 26,
   "metadata": {},
   "outputs": [
    {
     "name": "stdout",
     "output_type": "stream",
     "text": [
      "maximum in list is 90 and its index is 3\n"
     ]
    }
   ],
   "source": [
    "nums = [10,50,20,90,60,30] \n",
    "a=max(nums)\n",
    "p=\"maximum in list is {0} and its index is {1}\".format(a,nums.index(a))\n",
    "print(p)\n"
   ]
  },
  {
   "cell_type": "code",
   "execution_count": 30,
   "metadata": {},
   "outputs": [
    {
     "data": {
      "text/plain": [
       "Counter({10: 3, 20: 2, 30: 1})"
      ]
     },
     "execution_count": 30,
     "metadata": {},
     "output_type": "execute_result"
    }
   ],
   "source": [
    "#Write a program to count the number of occurances of a number from list and store the number and its count in a dict. \n",
    "#nums = [10,10,20,10,30,20] \n",
    "#Expected output : num_count = {10:3,20:1,30:1}\n",
    "from collections import Counter\n",
    "nums = [10,10,20,10,30,20]\n",
    "Counter(nums)"
   ]
  },
  {
   "cell_type": "code",
   "execution_count": null,
   "metadata": {},
   "outputs": [],
   "source": []
  },
  {
   "cell_type": "code",
   "execution_count": 18,
   "metadata": {},
   "outputs": [
    {
     "name": "stdout",
     "output_type": "stream",
     "text": [
      "{'username': 'ABC', 'id': 101, 'name': 'XYZ'}\n"
     ]
    }
   ],
   "source": [
    "def name(**nam):\n",
    "    print(nam)\n",
    "    \n",
    "    \n",
    "name(username=\"ABC\",id=101,name=\"XYZ\")\n",
    "   \n",
    "    \n",
    "    \n"
   ]
  },
  {
   "cell_type": "code",
   "execution_count": 23,
   "metadata": {},
   "outputs": [
    {
     "name": "stdout",
     "output_type": "stream",
     "text": [
      "ad\n",
      "be\n",
      "cf\n"
     ]
    }
   ],
   "source": [
    "x =\"abc\"\n",
    "y =\"def\"\n",
    "z=\"\"\n",
    "for i in range(len(x)):               \n",
    "    z=x[i]+y[i]\n",
    "    print(z)"
   ]
  },
  {
   "cell_type": "code",
   "execution_count": null,
   "metadata": {},
   "outputs": [],
   "source": []
  },
  {
   "cell_type": "code",
   "execution_count": null,
   "metadata": {},
   "outputs": [],
   "source": []
  },
  {
   "cell_type": "code",
   "execution_count": 27,
   "metadata": {},
   "outputs": [
    {
     "data": {
      "text/plain": [
       "Counter({'blue': 3, 'red': 2, 'yellow': 1})"
      ]
     },
     "execution_count": 27,
     "metadata": {},
     "output_type": "execute_result"
    }
   ],
   "source": []
  },
  {
   "cell_type": "code",
   "execution_count": 23,
   "metadata": {},
   "outputs": [
    {
     "name": "stdout",
     "output_type": "stream",
     "text": [
      "(0, 0, 0)\n"
     ]
    }
   ],
   "source": []
  },
  {
   "cell_type": "code",
   "execution_count": 26,
   "metadata": {},
   "outputs": [
    {
     "name": "stdout",
     "output_type": "stream",
     "text": [
      "10:17:36\n"
     ]
    }
   ],
   "source": [
    " \n",
    "\n",
    "def time(second): \n",
    "    seconds = second % (24 * 3600) \n",
    "    hour = seconds // 3600\n",
    "    seconds %= 3600\n",
    "    minutes = seconds // 60\n",
    "    seconds %= 60\n",
    "    return \"%d:%02d:%02d\" % (hour, minutes, seconds) \n",
    "\n",
    "\n",
    "n = 123456\n",
    "print(time(n)) \n"
   ]
  },
  {
   "cell_type": "code",
   "execution_count": 28,
   "metadata": {},
   "outputs": [
    {
     "data": {
      "text/plain": [
       "37056"
      ]
     },
     "execution_count": 28,
     "metadata": {},
     "output_type": "execute_result"
    }
   ],
   "source": [
    "f1 = open(\"file1.txt\")\n",
    "f1_con = f1.read()\n",
    "print(f1_con)\n",
    "f1.close()\n",
    "\n",
    "f2 = open(\"file2.txt\")\n",
    "f2_contents = f2.read()\n",
    "print(f2_con)\n",
    "f2.close()\n",
    "\n",
    "f3 = open(\"concatenated.txt\", \"w\") \n",
    "f3.write(f1_con+ f2_con)\n",
    "f3.close()\n",
    "\n",
    "f4= open(\"concatenated.txt\")\n",
    "f4_con=f4.read()\n",
    "print(f4_con)\n",
    "f4.close() "
   ]
  },
  {
   "cell_type": "code",
   "execution_count": null,
   "metadata": {},
   "outputs": [],
   "source": [
    "#Write a program to remove empty lines from a txt file\n",
    "fp=open(\"line1.txt\",\"r\")\n",
    "con=fp.readlines()\n",
    "print(con)\n",
    "fp.close()"
   ]
  }
 ],
 "metadata": {
  "kernelspec": {
   "display_name": "Python 3",
   "language": "python",
   "name": "python3"
  },
  "language_info": {
   "codemirror_mode": {
    "name": "ipython",
    "version": 3
   },
   "file_extension": ".py",
   "mimetype": "text/x-python",
   "name": "python",
   "nbconvert_exporter": "python",
   "pygments_lexer": "ipython3",
   "version": "3.7.3"
  }
 },
 "nbformat": 4,
 "nbformat_minor": 2
}
